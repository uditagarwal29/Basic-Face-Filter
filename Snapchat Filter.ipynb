{
 "cells": [
  {
   "cell_type": "markdown",
   "metadata": {},
   "source": [
    "# SnapChat Filter"
   ]
  },
  {
   "cell_type": "markdown",
   "metadata": {},
   "source": [
    "### For Live Video Stream"
   ]
  },
  {
   "cell_type": "code",
   "execution_count": 1,
   "metadata": {},
   "outputs": [],
   "source": [
    "import cv2\n",
    "\n",
    "face_Cascade = cv2.CascadeClassifier(cv2.data.haarcascades + \"haarcascade_frontalface_default.xml\")\n",
    "eye_Cascade = cv2.CascadeClassifier(cv2.data.haarcascades + \"frontalEyes35x16.xml\")\n",
    "nose_Cascade = cv2.CascadeClassifier(cv2.data.haarcascades + \"Nose18x15.xml\")\n",
    "glasses = cv2.imread('glasses.png', -1)  #We load the mustache with -1 (negative one) as the second \n",
    "#parameter to load all the layers in the image. The image is made up of 4 layers (or channels): Blue,\n",
    "#Green, Red, and an Alpha transparency layer (knows as BGR-A). The a\"lpha channel tell us which pixels in \n",
    "#the image should be transparent (show the image underneath) or should be non-transparent (made up of a \n",
    "#combination of the other 3 layers).\n",
    "mustache = cv2.imread('mustache.png',-1)\n",
    "\n",
    "cap = cv2.VideoCapture(0)\n",
    "\n",
    "while True:\n",
    "    ret, frame = cap.read()\n",
    "    gray_frame = cv2.cvtColor(frame, cv2.COLOR_BGR2GRAY)\n",
    "    \n",
    "    if ret == False:\n",
    "        continue\n",
    "        \n",
    "    frame = cv2.cvtColor(frame , cv2.COLOR_BGR2BGRA) # so that we can use glasses and mustaches alpha value\n",
    "                                                     # otherwise we get white box around them\n",
    "    \n",
    "    faces = face_Cascade.detectMultiScale(gray_frame, 1.3, 5)\n",
    "    \n",
    "    origGlasses = cv2.imread('glasses.png', -1) \n",
    "    \n",
    "    origMustache = cv2.imread('mustache.png', -1)\n",
    "    \n",
    "    for (x,y,w,h) in faces:\n",
    "        \n",
    "        #cv2.rectangle(frame, (x,y), (x+w, y+h), (255,255,255),3)\n",
    "        roi_gray = gray_frame[y:y+h , x:x+w]\n",
    "        roi_color = frame[y:y+h , x:x+w]\n",
    "        \n",
    "        \n",
    "        eyes = eye_Cascade.detectMultiScale(roi_gray, 1.3, 5)\n",
    "        for (ex,ey,ew,eh) in eyes:\n",
    "            #cv2.rectangle(roi_color, (ex,ey), (ex+ew, ey+eh), (0,255,0),3)\n",
    "            roi_eye_gray = roi_gray[ey:ey+eh, ex:ex+ew]\n",
    "            roi_eye_color = roi_color[ey:ey+eh, ex:ex+ew]\n",
    "            glasses = cv2.resize(origGlasses, (ew,eh), interpolation = cv2.INTER_AREA)\n",
    "            \n",
    "            gw, gh, gc = glasses.shape\n",
    "            # We are going to iterate through every single pixel value in the glasses image and then we\n",
    "            # are going to replace it with roi_color\n",
    "            \n",
    "            for i in range (0,gw):\n",
    "                for j in range(0,gh):\n",
    "                    if glasses[i, j][3] != 0: # 3rd value [3] means alpha value there is 0 so we want it to \n",
    "                                # be transparent and we dont need to change that pixel value in roi_color\n",
    "                        roi_color[ey + i, ex+ j ] = glasses[i , j]  # This line is used to replace pixel\n",
    "                                                                 # values \n",
    "        \n",
    "        \n",
    "        nose = nose_Cascade.detectMultiScale(roi_gray, 1.2, 5)\n",
    "        for (nx,ny,nw,nh) in nose:\n",
    "            #cv2.rectangle(roi_color, (nx,ny), (nx+nw, ny+nh), (255,0,0),3)\n",
    "            roi_nose_gray = roi_gray[ny:ny+nh , nx:nx+nw]\n",
    "            roi_nose_color = roi_color[ny:ny+nh , nx:nx+nw]\n",
    "            mustache = cv2.resize(origMustache, (nw,nh), interpolation = cv2.INTER_AREA)\n",
    "            \n",
    "            mw, mh, mc = mustache.shape\n",
    "\n",
    "            # We are going to iterate through every single pixel value in the glasses image and then we\n",
    "            # are going to replace it with roi_color\n",
    "            \n",
    "            for i in range (0,mw):\n",
    "                for j in range(0,mh):\n",
    "                    if mustache[i, j][3] != 0: # 3rd value [3] means alpha value there is 0 so we want it to \n",
    "                                # be transparent and we dont need to change that pixel value in roi_color\n",
    "                        roi_color[ny + int(nh/2.5) + i , nx+ j ] = mustache[i , j] # This Line is used to\n",
    "                                                                                   # replace pixel values\n",
    "    \n",
    "            \n",
    "        \n",
    "             \n",
    "    cv2.imshow(\"Video Frame\",frame)\n",
    "\n",
    "    frame = cv2.cvtColor(frame , cv2.COLOR_BGRA2BGR)\n",
    "    \n",
    "    # Wait for user Input s, then you will stop the loop\n",
    "    key_pressed = cv2.waitKey(1) & 0xFF # for converting waitkey(32 bit) into 8 bit\n",
    "    if key_pressed == ord('s'):\n",
    "        break\n",
    "\n",
    "cap.release()\n",
    "cv2.destroyAllWindows()"
   ]
  },
  {
   "cell_type": "markdown",
   "metadata": {},
   "source": [
    "### For a Single Image"
   ]
  },
  {
   "cell_type": "code",
   "execution_count": 3,
   "metadata": {},
   "outputs": [],
   "source": [
    "import cv2\n",
    "import numpy as np\n",
    "import pandas as pd\n",
    "\n",
    "face_Cascade = cv2.CascadeClassifier(cv2.data.haarcascades + \"haarcascade_frontalface_default.xml\")\n",
    "eye_Cascade = cv2.CascadeClassifier(cv2.data.haarcascades + \"frontalEyes35x16.xml\")\n",
    "nose_Cascade = cv2.CascadeClassifier(cv2.data.haarcascades + \"Nose18x15.xml\")\n",
    "glasses = cv2.imread('glasses.png', -1)  #We load the mustache with -1 (negative one) as the second \n",
    "#parameter to load all the layers in the image. The image is made up of 4 layers (or channels): Blue,\n",
    "#Green, Red, and an Alpha transparency layer (knows as BGR-A). The a\"lpha channel tell us which pixels in \n",
    "#the image should be transparent (show the image underneath) or should be non-transparent (made up of a \n",
    "#combination of the other 3 layers).\n",
    "mustache = cv2.imread('mustache.png',-1)\n",
    "frame = cv2.imread(\"Jamie_Before.jpg\")\n",
    "\n",
    "gray_frame = cv2.cvtColor(frame, cv2.COLOR_BGR2GRAY)\n",
    "\n",
    "frame = cv2.cvtColor(frame , cv2.COLOR_BGR2BGRA) # so that we can use glasses and mustaches alpha value \n",
    "                                            # otherwise we get white box around them\n",
    "    \n",
    "faces = face_Cascade.detectMultiScale(gray_frame, 1.3, 5)\n",
    "    \n",
    "origGlasses = cv2.imread('glasses.png', -1) \n",
    "    \n",
    "origMustache = cv2.imread('mustache.png', -1)\n",
    "    \n",
    "for (x,y,w,h) in faces:\n",
    "        \n",
    "    #cv2.rectangle(frame, (x,y), (x+w, y+h), (255,255,255),3)\n",
    "    roi_gray = gray_frame[y:y+h , x:x+w]\n",
    "    roi_color = frame[y:y+h , x:x+w]\n",
    "        \n",
    "        \n",
    "    eyes = eye_Cascade.detectMultiScale(roi_gray, 1.3, 5)\n",
    "    for (ex,ey,ew,eh) in eyes:\n",
    "        #cv2.rectangle(roi_color, (ex,ey), (ex+ew, ey+eh), (0,255,0),3)\n",
    "        roi_eye_gray = roi_gray[ey:ey+eh, ex:ex+ew]\n",
    "        roi_eye_color = roi_color[ey:ey+eh, ex:ex+ew]\n",
    "        glasses = cv2.resize(origGlasses, (int(ew*1.07),int(eh*1.1)), interpolation = cv2.INTER_AREA)\n",
    "            \n",
    "        gw, gh, gc = glasses.shape\n",
    "        # We are going to iterate through every single pixel value in the glasses image and then we\n",
    "        # are going to replace it with roi_color\n",
    "            \n",
    "        for i in range (0,gw):\n",
    "            for j in range(0,gh):\n",
    "                if glasses[i, j][3] != 0: # 3rd value [3] means alpha value there is 0 so we want it to \n",
    "                            # be transparent and we dont need to change that pixel value in roi_color\n",
    "                    roi_color[ey - int(eh/21) + i, ex - int(ew/31)+ j ] = glasses[i , j]  # This line is used to replace pixel\n",
    "                                                                 # values \n",
    "        \n",
    "        \n",
    "    nose = nose_Cascade.detectMultiScale(roi_gray, 1.3, 8)\n",
    "    for (nx,ny,nw,nh) in nose:\n",
    "        #cv2.rectangle(roi_color, (nx,ny), (nx+nw, ny+nh), (255,0,0),3)\n",
    "        roi_nose_gray = roi_gray[ny:ny+nh , nx:nx+nw]\n",
    "        roi_nose_color = roi_color[ny:ny+nh , nx:nx+nw]\n",
    "        mustache = cv2.resize(origMustache, (int(nw*1.2),int(nh/1.3)), interpolation = cv2.INTER_AREA)\n",
    "            \n",
    "        mw, mh, mc = mustache.shape\n",
    "\n",
    "        # We are going to iterate through every single pixel value in the glasses image and then we\n",
    "        # are going to replace it with roi_color\n",
    "            \n",
    "        for i in range (0,mw):\n",
    "            for j in range(0,mh):\n",
    "                if mustache[i, j][3] != 0: # 3rd value [3] means alpha value there is 0 so we want it to \n",
    "                            # be transparent and we dont need to change that pixel value in roi_color\n",
    "                    roi_color[ny + int(nh/2.1) + i , nx - int(nw/13) + j ] = mustache[i , j] # This Line is used to\n",
    "                                                                                   # replace pixel values\n",
    "    \n",
    "            \n",
    "\n",
    "cv2.imshow(\"Video Frame\",frame)             \n",
    "\n",
    "\n",
    "frame = cv2.cvtColor(frame , cv2.COLOR_BGRA2BGR)\n",
    "    \n",
    "\n",
    "cv2.waitKey(0)\n",
    "cv2.destroyAllWindows()\n",
    "\n"
   ]
  },
  {
   "cell_type": "code",
   "execution_count": 11,
   "metadata": {},
   "outputs": [],
   "source": [
    "# Saving as CSV file\n",
    "\n",
    "face_data = np.asarray(frame)\n",
    "face_data = face_data.flatten().reshape(-1,3)\n",
    "df = pd.DataFrame(face_data)\n",
    "df.to_csv(\"data.csv\", index=False)\n"
   ]
  },
  {
   "cell_type": "code",
   "execution_count": 12,
   "metadata": {},
   "outputs": [
    {
     "data": {
      "text/plain": [
       "True"
      ]
     },
     "execution_count": 12,
     "metadata": {},
     "output_type": "execute_result"
    }
   ],
   "source": [
    "# Saving as Image file\n",
    "cv2.imwrite(\"Filter_Jaime.jpg\",frame)"
   ]
  },
  {
   "cell_type": "code",
   "execution_count": null,
   "metadata": {},
   "outputs": [],
   "source": []
  },
  {
   "cell_type": "code",
   "execution_count": null,
   "metadata": {},
   "outputs": [],
   "source": []
  },
  {
   "cell_type": "code",
   "execution_count": null,
   "metadata": {},
   "outputs": [],
   "source": []
  },
  {
   "cell_type": "code",
   "execution_count": null,
   "metadata": {},
   "outputs": [],
   "source": [
    "\n"
   ]
  },
  {
   "cell_type": "code",
   "execution_count": null,
   "metadata": {},
   "outputs": [],
   "source": []
  }
 ],
 "metadata": {
  "kernelspec": {
   "display_name": "Python 3",
   "language": "python",
   "name": "python3"
  },
  "language_info": {
   "codemirror_mode": {
    "name": "ipython",
    "version": 3
   },
   "file_extension": ".py",
   "mimetype": "text/x-python",
   "name": "python",
   "nbconvert_exporter": "python",
   "pygments_lexer": "ipython3",
   "version": "3.7.7"
  }
 },
 "nbformat": 4,
 "nbformat_minor": 4
}
